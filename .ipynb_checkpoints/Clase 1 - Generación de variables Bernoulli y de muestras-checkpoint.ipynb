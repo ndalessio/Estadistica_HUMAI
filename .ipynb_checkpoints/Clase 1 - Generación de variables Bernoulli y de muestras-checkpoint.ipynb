{
 "cells": [
  {
   "cell_type": "markdown",
   "metadata": {},
   "source": [
    "# Clase 1 - Generación de variables Bernoulli y de muestras"
   ]
  },
  {
   "cell_type": "code",
   "execution_count": 1,
   "metadata": {},
   "outputs": [],
   "source": [
    "import numpy\n",
    "from scipy.stats import bernoulli\n",
    "from random import sample\n",
    "import matplotlib.pyplot as plt\n",
    "import seaborn as sns"
   ]
  },
  {
   "cell_type": "markdown",
   "metadata": {},
   "source": [
    "## Obtener una serie de n numeros con distribución bernouli"
   ]
  },
  {
   "cell_type": "code",
   "execution_count": 2,
   "metadata": {},
   "outputs": [
    {
     "name": "stdout",
     "output_type": "stream",
     "text": [
      "Elementos de la serie: \n",
      "[1 0 1 0 0 1 1 0 0 1]\n",
      "\n",
      "p_exito: 0.5\n"
     ]
    }
   ],
   "source": [
    "#Obtener una serie de n numeros con distribución bernouli\n",
    "\n",
    "P_exito = 0.3  \n",
    "\n",
    "n=10\n",
    "serie = bernoulli.rvs(size = n, p = P_exito)\n",
    "p_exito = serie.sum()/len(serie)\n",
    "\n",
    "print('Elementos de la serie: \\n{}\\n\\np_exito: {}'.format(serie, \n",
    "                                                          p_exito))"
   ]
  },
  {
   "cell_type": "markdown",
   "metadata": {},
   "source": [
    "Ejercicio:\n",
    "\n",
    "Correr varias veces la linea anterior para el mismo tamaño de la serie (n)\n",
    "\n",
    "Cambiar el tamaño de la muestra y repetir el paso 1\n",
    "\n",
    "Cambiar la probabilidad de éxito y repetir el paso 1.\n",
    "\n",
    "¿Qué observan?"
   ]
  },
  {
   "cell_type": "markdown",
   "metadata": {},
   "source": [
    "# Grafica de una serie con distribución Bernoulli"
   ]
  },
  {
   "cell_type": "code",
   "execution_count": 4,
   "metadata": {},
   "outputs": [
    {
     "name": "stdout",
     "output_type": "stream",
     "text": [
      "p_exito =  2982\n"
     ]
    },
    {
     "data": {
      "image/png": "[encoded data removed]",
      "text/plain": [
       "<Figure size 360x288 with 1 Axes>"
      ]
     },
     "metadata": {},
     "output_type": "display_data"
    }
   ],
   "source": [
    "P_exito = 0.3  \n",
    "\n",
    "n=10000\n",
    "serie = bernoulli.rvs(size = n, p = P_exito)\n",
    "p_exito = serie.sum()/len(serie)\n",
    "\n",
    "#Graficar distribución bernulli \n",
    "sns.set(rc={'figure.figsize':(5,4)})\n",
    "fig=sns.distplot(serie,color='skyblue',kde=False, hist_kws={ 'alpha':1})\n",
    "fig.set(xlabel='Distribución Bernulli', ylabel='Frecuencia')\n",
    "print('p_exito = ',serie.sum())"
   ]
  },
  {
   "cell_type": "code",
   "execution_count": 5,
   "metadata": {},
   "outputs": [
    {
     "name": "stdout",
     "output_type": "stream",
     "text": [
      "p =  0.25\n",
      "q =  0.75\n"
     ]
    },
    {
     "data": {
      "text/plain": [
       "[0, 0, 0, 0, 0, 0, 0, 0, 1, 1, 0, 0, 0, 0, 1, 0, 0, 1, 1, 0]"
      ]
     },
     "execution_count": 5,
     "metadata": {},
     "output_type": "execute_result"
    }
   ],
   "source": [
    "muestra = sample(list(serie),20)\n",
    "\n",
    "p = sum(muestra) / len(muestra)\n",
    "q = 1 - (sum(muestra) / len(muestra))\n",
    "print('p = ', p)\n",
    "print('q = ', q)\n",
    "\n",
    "muestra"
   ]
  },
  {
   "cell_type": "code",
   "execution_count": 6,
   "metadata": {},
   "outputs": [
    {
     "name": "stdout",
     "output_type": "stream",
     "text": [
      "p = 0.50    q = 0.50\n",
      "p = 0.15    q = 0.85\n",
      "p = 0.15    q = 0.85\n",
      "p = 0.05    q = 0.95\n",
      "p = 0.30    q = 0.70\n",
      "p = 0.35    q = 0.65\n",
      "p = 0.25    q = 0.75\n",
      "p = 0.20    q = 0.80\n",
      "p = 0.20    q = 0.80\n"
     ]
    }
   ],
   "source": [
    "muestras={}\n",
    "for i in range(1,10):\n",
    "    muestras[i]=sample(list(serie),20)\n",
    "    \n",
    "for muestra in  muestras.values():\n",
    "    p = sum(muestra) / len(muestra)\n",
    "    q = 1 - (sum(muestra) / len(muestra))\n",
    "    print('p = {:.2f}    q = {:.2f}'.format(p,q))"
   ]
  }
 ],
 "metadata": {
  "kernelspec": {
   "display_name": "Python 3.7.6 64-bit ('base': conda)",
   "language": "python",
   "name": "python37664bitbasecondab80094cdf1ac4a85959b2861f853e4e0"
  },
  "language_info": {
   "codemirror_mode": {
    "name": "ipython",
    "version": 3
   },
   "file_extension": ".py",
   "mimetype": "text/x-python",
   "name": "python",
   "nbconvert_exporter": "python",
   "pygments_lexer": "ipython3",
   "version": "3.7.6"
  }
 },
 "nbformat": 4,
 "nbformat_minor": 4
}
