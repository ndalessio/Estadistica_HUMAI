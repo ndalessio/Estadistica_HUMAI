{
 "cells": [
  {
   "cell_type": "markdown",
   "metadata": {},
   "source": [
    "# Probabilidad de ocurrencia de las palabras en un texto.ipynb"
   ]
  },
  {
   "cell_type": "code",
   "execution_count": 26,
   "metadata": {},
   "outputs": [],
   "source": [
    "import pandas as pd\n",
    "from collections import Counter"
   ]
  },
  {
   "cell_type": "code",
   "execution_count": 2,
   "metadata": {},
   "outputs": [],
   "source": [
    "def contar_palabras(texto):\n",
    "    texto = texto.lower()\n",
    "    puntuaciones = [\".\", \",\" , \"\\n\", \":\", \";\",'\"', \"'\"]\n",
    "    for p in puntuaciones:\n",
    "        texto = texto.replace(p,\"\")\n",
    "        conteo_palabras = Counter(texto.split())\n",
    "    return conteo_palabras"
   ]
  },
  {
   "cell_type": "code",
   "execution_count": 3,
   "metadata": {},
   "outputs": [],
   "source": [
    "frase_prueba = \"esta es una frase frase frase frase: de prueba, vamos a ver qué sale\""
   ]
  },
  {
   "cell_type": "code",
   "execution_count": 7,
   "metadata": {},
   "outputs": [
    {
     "data": {
      "text/plain": [
       "Counter({'esta': 1,\n",
       "         'es': 1,\n",
       "         'una': 1,\n",
       "         'frase': 4,\n",
       "         'de': 1,\n",
       "         'prueba': 1,\n",
       "         'vamos': 1,\n",
       "         'a': 1,\n",
       "         'ver': 1,\n",
       "         'qué': 1,\n",
       "         'sale': 1})"
      ]
     },
     "execution_count": 7,
     "metadata": {},
     "output_type": "execute_result"
    }
   ],
   "source": [
    "palabras = contar_palabras(frase_prueba)\n",
    "palabras"
   ]
  },
  {
   "cell_type": "code",
   "execution_count": 13,
   "metadata": {},
   "outputs": [
    {
     "name": "stdout",
     "output_type": "stream",
     "text": [
      "Palabras únicas: 11\n",
      "Palabras totales: 14\n"
     ]
    }
   ],
   "source": [
    "unicas = len(palabras)\n",
    "totales = sum(palabras.values())\n",
    "print('Palabras únicas: {}\\nPalabras totales: {}'. format(unicas, totales))"
   ]
  },
  {
   "cell_type": "code",
   "execution_count": 15,
   "metadata": {},
   "outputs": [
    {
     "data": {
      "text/plain": [
       "[('frase', 4), ('esta', 1), ('es', 1)]"
      ]
     },
     "execution_count": 15,
     "metadata": {},
     "output_type": "execute_result"
    }
   ],
   "source": [
    "palabras.most_common(3)"
   ]
  },
  {
   "cell_type": "code",
   "execution_count": 16,
   "metadata": {},
   "outputs": [
    {
     "data": {
      "text/plain": [
       "4"
      ]
     },
     "execution_count": 16,
     "metadata": {},
     "output_type": "execute_result"
    }
   ],
   "source": [
    "palabras['frase']"
   ]
  },
  {
   "cell_type": "code",
   "execution_count": 18,
   "metadata": {},
   "outputs": [
    {
     "data": {
      "text/plain": [
       "0.36363636363636365"
      ]
     },
     "execution_count": 18,
     "metadata": {},
     "output_type": "execute_result"
    }
   ],
   "source": [
    "P_frase = palabras['frase'] / len(palabras)\n",
    "P_frase"
   ]
  },
  {
   "cell_type": "markdown",
   "metadata": {},
   "source": [
    "# Distribución de palabras \"Cien años de soledad\""
   ]
  },
  {
   "cell_type": "markdown",
   "metadata": {},
   "source": [
    "## Ejercicio\n",
    "\n",
    "1. ¿cuántas palabras contiene 100 años de soledad?\n",
    "2. ¿cuántas palabras únicas?\n",
    "3. ¿cuál es la palabra más frecuente?\n",
    "4. ¿cuántas veces aparecen las palabras:\n",
    "> - Aureliano\n",
    "> - Arcadio\n",
    "> - Ursula\n",
    "5. ¿qué probabilidad hay de que al elegir una palabra al azar esta sea Macondo? "
   ]
  },
  {
   "cell_type": "code",
   "execution_count": 32,
   "metadata": {},
   "outputs": [],
   "source": [
    "def leer_libro(archivo_txt):\n",
    "    with open(archivo_txt, \"r\", encoding=\"utf8\") as f:\n",
    "        texto = f.read()\n",
    "        texto = texto.replace(\"\\n\", \"\").replace(\"\\r\", \"\") \n",
    "    return texto"
   ]
  },
  {
   "cell_type": "code",
   "execution_count": 29,
   "metadata": {},
   "outputs": [],
   "source": [
    "libro = leer_libro(\"cien-años-de-soledad.txt\")"
   ]
  },
  {
   "cell_type": "code",
   "execution_count": 45,
   "metadata": {},
   "outputs": [],
   "source": [
    "palabras_libro = contar_palabras(libro)"
   ]
  },
  {
   "cell_type": "code",
   "execution_count": 35,
   "metadata": {},
   "outputs": [
    {
     "name": "stdout",
     "output_type": "stream",
     "text": [
      "1. El libro 'Cien años de Soledad' tiene 2748 palabras\n"
     ]
    }
   ],
   "source": [
    "print(\"1. El libro 'Cien años de Soledad' tiene\", len(palabras_libro), \"palabras\")"
   ]
  },
  {
   "cell_type": "code",
   "execution_count": 39,
   "metadata": {},
   "outputs": [
    {
     "name": "stdout",
     "output_type": "stream",
     "text": [
      "2. El libro 'Cien años de Soledad' tiene 8928 palabras únicas\n"
     ]
    }
   ],
   "source": [
    "print(\"2. El libro 'Cien años de Soledad' tiene\", sum(palabras_libro.values()), \"palabras únicas\")"
   ]
  },
  {
   "cell_type": "code",
   "execution_count": 40,
   "metadata": {},
   "outputs": [
    {
     "name": "stdout",
     "output_type": "stream",
     "text": [
      "3. La palabra más frecuente es: [('de', 613)]\n"
     ]
    }
   ],
   "source": [
    "print(\"3. La palabra más frecuente es:\", palabras_libro.most_common(1))"
   ]
  },
  {
   "cell_type": "code",
   "execution_count": 57,
   "metadata": {},
   "outputs": [
    {
     "name": "stdout",
     "output_type": "stream",
     "text": [
      "4. Aureliano aparece 11 veces\n",
      "Arcadio aparece 61 veces\n",
      "Úrsula aparece 40 veces\n"
     ]
    }
   ],
   "source": [
    "print(\"4. Aureliano aparece\", palabras_libro['aureliano'], \"veces\")\n",
    "print(\"Arcadio aparece\", palabras_libro['arcadio'], \"veces\")\n",
    "print(\"Úrsula aparece\", palabras_libro[\"úrsula\"], \"veces\")"
   ]
  }
 ],
 "metadata": {
  "kernelspec": {
   "display_name": "Python 3.7.6 64-bit ('base': conda)",
   "language": "python",
   "name": "python37664bitbasecondab80094cdf1ac4a85959b2861f853e4e0"
  },
  "language_info": {
   "codemirror_mode": {
    "name": "ipython",
    "version": 3
   },
   "file_extension": ".py",
   "mimetype": "text/x-python",
   "name": "python",
   "nbconvert_exporter": "python",
   "pygments_lexer": "ipython3",
   "version": "3.7.6"
  }
 },
 "nbformat": 4,
 "nbformat_minor": 4
}
